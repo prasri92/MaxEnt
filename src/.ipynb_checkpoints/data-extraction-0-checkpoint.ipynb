{
 "cells": [
  {
   "cell_type": "code",
   "execution_count": 1,
   "metadata": {},
   "outputs": [],
   "source": [
    "import numpy as np\n",
    "import pandas as pd"
   ]
  },
  {
   "cell_type": "code",
   "execution_count": 2,
   "metadata": {},
   "outputs": [],
   "source": [
    "# Loading the big csv file (exported from the excel file)\n",
    "# All other pre-processing is done here\n",
    "# The \"cleaned\" csv files are then stored\n",
    "\n",
    "bigFilePath = '../data/2010-2014.csv'"
   ]
  },
  {
   "cell_type": "code",
   "execution_count": 3,
   "metadata": {},
   "outputs": [
    {
     "name": "stderr",
     "output_type": "stream",
     "text": [
      "/home/ninad/anaconda3/envs/maxent/lib/python2.7/site-packages/IPython/core/interactiveshell.py:2714: DtypeWarning: Columns (111) have mixed types. Specify dtype option on import or set low_memory=False.\n",
      "  interactivity=interactivity, compiler=compiler, result=result)\n"
     ]
    }
   ],
   "source": [
    "big_df = pd.read_csv(bigFilePath)"
   ]
  },
  {
   "cell_type": "code",
   "execution_count": 5,
   "metadata": {},
   "outputs": [
    {
     "name": "stdout",
     "output_type": "stream",
     "text": [
      "Index([u'DUPERSID', u'PANEL', u'AGE1X', u'SEX', u'RACEAX', u'RACEBX',\n",
      "       u'RACEWX', u'RTHLTH1', u'RTHLTH2', u'RTHLTH3',\n",
      "       ...\n",
      "       u'perwt', u'netchange', u'sf0', u'ss0', u'sdif0', u'weight', u'age',\n",
      "       u'sdif38', u'sdif39', u'sdif40'],\n",
      "      dtype='object', length=942)\n",
      "('Total columns:', 942)\n"
     ]
    }
   ],
   "source": [
    "col_list = big_df.columns\n",
    "print (col_list)\n",
    "print (\"Total columns:\",  len(col_list))"
   ]
  },
  {
   "cell_type": "code",
   "execution_count": 6,
   "metadata": {},
   "outputs": [
    {
     "name": "stdout",
     "output_type": "stream",
     "text": [
      "Extracting relevant column numbers: \n",
      "332\n",
      "601\n",
      "332 601 872\n",
      "CCCfy1 CCCfy670 CCCsy670\n"
     ]
    }
   ],
   "source": [
    "print \"Extracting relevant column numbers: \"\n",
    "\n",
    "# first disease is 'CCCfy1'\n",
    "i = 0\n",
    "for i in range(len(col_list)):\n",
    "    if col_list[i] == 'CCCfy1':\n",
    "        print i\n",
    "        break\n",
    "\n",
    "# last disease is 'CCCfy670'\n",
    "j = 0\n",
    "for j in range(len(col_list)):\n",
    "    if col_list[j] == 'CCCfy670':\n",
    "        print j\n",
    "        break\n",
    "\n",
    "first_index = i\n",
    "fy_last_index = j\n",
    "total_first_year = fy_last_index - first_index + 1\n",
    "end_index = first_index + 2 * total_first_year \n",
    "\n",
    "# sanity check: end_index should be the one just after\n",
    "# the last disease's sy column\n",
    "print first_index, fy_last_index, end_index\n",
    "print col_list[first_index], col_list[fy_last_index], col_list[end_index-1] "
   ]
  },
  {
   "cell_type": "code",
   "execution_count": 7,
   "metadata": {},
   "outputs": [
    {
     "name": "stdout",
     "output_type": "stream",
     "text": [
      "Fy disease list: Index([u'CCCfy1', u'CCCfy2', u'CCCfy3', u'CCCfy4', u'CCCfy5', u'CCCfy6',\n",
      "       u'CCCfy7', u'CCCfy8', u'CCCfy9', u'CCCfy10',\n",
      "       ...\n",
      "       u'CCCfy661', u'CCCfy662', u'CCCfy663', u'CCCfy664', u'CCCfy665',\n",
      "       u'CCCfy666', u'CCCfy667', u'CCCfy668', u'CCCfy669', u'CCCfy670'],\n",
      "      dtype='object', length=270)\n"
     ]
    }
   ],
   "source": [
    "# disease_list_2years is the list for all the columns for first year (fy)\n",
    "# disease prevalence in the dataset\n",
    "disease_list_fy = col_list[first_index:fy_last_index+1]\n",
    "print \"Fy disease list:\", disease_list_fy"
   ]
  },
  {
   "cell_type": "code",
   "execution_count": 8,
   "metadata": {},
   "outputs": [
    {
     "name": "stdout",
     "output_type": "stream",
     "text": [
      "Sy disease list: Index([u'CCCsy1', u'CCCsy2', u'CCCsy3', u'CCCsy4', u'CCCsy5', u'CCCsy6',\n",
      "       u'CCCsy7', u'CCCsy8', u'CCCsy9', u'CCCsy10',\n",
      "       ...\n",
      "       u'CCCsy661', u'CCCsy662', u'CCCsy663', u'CCCsy664', u'CCCsy665',\n",
      "       u'CCCsy666', u'CCCsy667', u'CCCsy668', u'CCCsy669', u'CCCsy670'],\n",
      "      dtype='object', length=270)\n"
     ]
    }
   ],
   "source": [
    "# disease_list_sy is the list for all the columns for second year (sy)\n",
    "# disease prevalence in the dataset\n",
    "disease_list_sy = col_list[fy_last_index+1:end_index]\n",
    "print \"Sy disease list:\", disease_list_sy"
   ]
  },
  {
   "cell_type": "code",
   "execution_count": 9,
   "metadata": {},
   "outputs": [
    {
     "name": "stdout",
     "output_type": "stream",
     "text": [
      "Merge disease list: Index([u'CCCfy1', u'CCCfy2', u'CCCfy3', u'CCCfy4', u'CCCfy5', u'CCCfy6',\n",
      "       u'CCCfy7', u'CCCfy8', u'CCCfy9', u'CCCfy10',\n",
      "       ...\n",
      "       u'CCCsy661', u'CCCsy662', u'CCCsy663', u'CCCsy664', u'CCCsy665',\n",
      "       u'CCCsy666', u'CCCsy667', u'CCCsy668', u'CCCsy669', u'CCCsy670'],\n",
      "      dtype='object', length=540)\n"
     ]
    }
   ],
   "source": [
    "# disease_list_merge is the list for all the columns for first and second year \n",
    "# (fy and sy) disease prevalence in the dataset\n",
    "disease_list_merge = col_list[first_index:end_index]\n",
    "print \"Merge disease list:\", disease_list_merge"
   ]
  },
  {
   "cell_type": "code",
   "execution_count": 10,
   "metadata": {},
   "outputs": [],
   "source": [
    "df_fy = big_df.filter(disease_list_fy, axis=1)\n",
    "df_sy = big_df.filter(disease_list_sy, axis=1)\n",
    "df_merge = big_df.filter(disease_list_merge, axis=1)"
   ]
  },
  {
   "cell_type": "code",
   "execution_count": 13,
   "metadata": {},
   "outputs": [
    {
     "name": "stdout",
     "output_type": "stream",
     "text": [
      "Printing the shape of the three data frames:\n",
      "(67690, 270) (67690, 270) (67690, 540)\n"
     ]
    }
   ],
   "source": [
    "print \"Printing the shape of the three data frames:\"\n",
    "print df_fy.shape, df_sy.shape, df_merge.shape"
   ]
  },
  {
   "cell_type": "code",
   "execution_count": 15,
   "metadata": {},
   "outputs": [
    {
     "name": "stdout",
     "output_type": "stream",
     "text": [
      "Printing the shape of the three data frames after dropping the NaN rows:\n",
      "(67690, 270) (67690, 270) (67690, 540)\n"
     ]
    }
   ],
   "source": [
    "# Drop the rows who have NaN in certain columns\n",
    "df_fy = df_fy.fillna(int(0))\n",
    "df_sy = df_sy.fillna(int(0))\n",
    "df_merge = df_merge.fillna(int(0))\n",
    "\n",
    "print \"Printing the shape of the three data frames after dropping the NaN rows:\"\n",
    "print df_fy.shape, df_sy.shape, df_merge.shape"
   ]
  },
  {
   "cell_type": "code",
   "execution_count": 14,
   "metadata": {},
   "outputs": [],
   "source": [
    "# # Drop the rows who have NaN in certain columns\n",
    "# df_fy = df_fy.dropna()\n",
    "# df_sy = df_sy.dropna()\n",
    "# df_merge = df_merge.dropna()\n",
    "\n",
    "# print \"Printing the shape of the three data frames after dropping the NaN rows:\"\n",
    "# print df_fy.shape, df_sy.shape, df_merge.shape"
   ]
  },
  {
   "cell_type": "code",
   "execution_count": null,
   "metadata": {},
   "outputs": [],
   "source": []
  },
  {
   "cell_type": "code",
   "execution_count": 16,
   "metadata": {},
   "outputs": [
    {
     "name": "stdout",
     "output_type": "stream",
     "text": [
      "Saving the cleaned data frames to csv files\n"
     ]
    }
   ],
   "source": [
    "print \"Saving the cleaned data frames to csv files\"\n",
    "fy_csv_file = '../data/2010-2014-fy.csv'\n",
    "sy_csv_file = '../data/2010-2014-sy.csv'\n",
    "merge_csv_file = '../data/2010-2014-merge.csv'\n",
    "\n",
    "df_fy.to_csv(fy_csv_file, encoding='utf-8', index=False)\n",
    "df_sy.to_csv(sy_csv_file, encoding='utf-8', index=False)\n",
    "df_merge.to_csv(merge_csv_file, encoding='utf-8', index=False)"
   ]
  },
  {
   "cell_type": "code",
   "execution_count": null,
   "metadata": {},
   "outputs": [],
   "source": []
  },
  {
   "cell_type": "code",
   "execution_count": null,
   "metadata": {},
   "outputs": [],
   "source": []
  },
  {
   "cell_type": "code",
   "execution_count": null,
   "metadata": {},
   "outputs": [],
   "source": []
  },
  {
   "cell_type": "code",
   "execution_count": null,
   "metadata": {},
   "outputs": [],
   "source": []
  },
  {
   "cell_type": "code",
   "execution_count": null,
   "metadata": {},
   "outputs": [],
   "source": []
  },
  {
   "cell_type": "code",
   "execution_count": null,
   "metadata": {},
   "outputs": [],
   "source": []
  },
  {
   "cell_type": "code",
   "execution_count": null,
   "metadata": {},
   "outputs": [],
   "source": []
  },
  {
   "cell_type": "code",
   "execution_count": null,
   "metadata": {},
   "outputs": [],
   "source": []
  },
  {
   "cell_type": "code",
   "execution_count": 106,
   "metadata": {},
   "outputs": [],
   "source": [
    "# Loading the toy-dataset\n",
    "filePath = '../data/Age50_DataExtract.csv'\n",
    "df = pd.read_csv(filePath)"
   ]
  },
  {
   "cell_type": "code",
   "execution_count": 109,
   "metadata": {},
   "outputs": [
    {
     "name": "stdout",
     "output_type": "stream",
     "text": [
      "Index([u'CCCfy49', u'CCCfy53', u'CCCfy98', u'CCCfy100', u'CCCfy101',\n",
      "       u'CCCfy128', u'CCCfy204', u'CCCfy205', u'CCCfy651', u'CCCsy49',\n",
      "       u'CCCsy53', u'CCCsy98', u'CCCsy100', u'CCCsy101', u'CCCsy128',\n",
      "       u'CCCsy204', u'CCCsy205', u'CCCsy651'],\n",
      "      dtype='object')\n"
     ]
    }
   ],
   "source": [
    "print df.columns"
   ]
  },
  {
   "cell_type": "code",
   "execution_count": 108,
   "metadata": {},
   "outputs": [],
   "source": [
    "drop_list = ['fyAGE', 'CCCfy98.1']\n",
    "df = df.drop(drop_list, axis=1)"
   ]
  },
  {
   "cell_type": "code",
   "execution_count": 98,
   "metadata": {},
   "outputs": [],
   "source": [
    "col_list = df.columns"
   ]
  },
  {
   "cell_type": "code",
   "execution_count": 102,
   "metadata": {},
   "outputs": [],
   "source": [
    "fy_list = col_list[:9]\n",
    "sy_list = col_list[9:]\n",
    "\n",
    "df_fy = df.filter(fy_list, axis=1)\n",
    "df_sy = df.filter(sy_list, axis=1)\n"
   ]
  },
  {
   "cell_type": "code",
   "execution_count": 104,
   "metadata": {},
   "outputs": [
    {
     "name": "stdout",
     "output_type": "stream",
     "text": [
      "Saving the clean csv files\n"
     ]
    }
   ],
   "source": [
    "print \"Saving the clean csv files\"\n",
    "\n",
    "fname_merge = '../data/Age50_DataExtract_merge.csv'\n",
    "fname_fy = '../data/Age50_DataExtract_fy.csv'\n",
    "fname_sy = '../data/Age50_DataExtract_sy.csv'\n",
    "\n",
    "df.to_csv(fname_merge, encoding='utf-8', index=False)\n",
    "df_fy.to_csv(fname_fy, encoding='utf-8', index=False)\n",
    "df_sy.to_csv(fname_sy, encoding='utf-8', index=False)"
   ]
  },
  {
   "cell_type": "code",
   "execution_count": null,
   "metadata": {},
   "outputs": [],
   "source": []
  },
  {
   "cell_type": "code",
   "execution_count": 49,
   "metadata": {},
   "outputs": [],
   "source": [
    "tups = [tuple(x) for x in df.values]\n",
    "data_arr = np.asarray(tups)"
   ]
  },
  {
   "cell_type": "code",
   "execution_count": 50,
   "metadata": {},
   "outputs": [
    {
     "data": {
      "text/plain": [
       "(9, 21)"
      ]
     },
     "execution_count": 50,
     "metadata": {},
     "output_type": "execute_result"
    }
   ],
   "source": [
    "data_arr\n",
    "data_arr.shape"
   ]
  },
  {
   "cell_type": "code",
   "execution_count": null,
   "metadata": {},
   "outputs": [],
   "source": []
  },
  {
   "cell_type": "code",
   "execution_count": null,
   "metadata": {},
   "outputs": [],
   "source": []
  },
  {
   "cell_type": "code",
   "execution_count": null,
   "metadata": {},
   "outputs": [],
   "source": []
  },
  {
   "cell_type": "code",
   "execution_count": null,
   "metadata": {},
   "outputs": [],
   "source": []
  },
  {
   "cell_type": "code",
   "execution_count": null,
   "metadata": {},
   "outputs": [],
   "source": []
  },
  {
   "cell_type": "code",
   "execution_count": 61,
   "metadata": {},
   "outputs": [
    {
     "data": {
      "text/plain": [
       "array([[50,  0,  0,  0,  0,  0,  0,  0,  1,  0,  0,  0,  0,  0,  0,  0,\n",
       "         0,  0,  0,  0,  0],\n",
       "       [50,  0,  0,  0,  0,  0,  0,  0,  0,  0,  0,  0,  0,  0,  0,  0,\n",
       "         0,  0,  0,  0,  2],\n",
       "       [50,  0,  0,  0,  0,  0,  0,  0,  0,  0,  0,  0,  0,  0,  0,  0,\n",
       "         0,  0,  0,  0,  3],\n",
       "       [50,  0,  0,  0,  0,  0,  0,  0,  0,  0,  0,  0,  0,  0,  0,  0,\n",
       "         0,  0,  0,  0,  4],\n",
       "       [50,  0,  0,  0,  0,  0,  0,  1,  0,  0,  0,  0,  0,  0,  0,  0,\n",
       "         0,  0,  0,  0,  5],\n",
       "       [50,  0,  0,  1,  0,  0,  0,  0,  0,  0,  0,  0,  0,  0,  0,  0,\n",
       "         0,  0,  0,  0,  6],\n",
       "       [50,  1,  1,  0,  1,  0,  0,  0,  0,  0,  0,  1,  1,  1,  0,  0,\n",
       "         0,  1,  0,  0,  7],\n",
       "       [50,  0,  0,  0,  0,  0,  0,  0,  0,  0,  0,  0,  0,  0,  0,  0,\n",
       "         0,  0,  0,  0,  8],\n",
       "       [50,  0,  0,  1,  0,  0,  0,  0,  0,  0,  0,  0,  0,  0,  0,  0,\n",
       "         0,  0,  0,  0,  9]])"
      ]
     },
     "execution_count": 61,
     "metadata": {},
     "output_type": "execute_result"
    }
   ],
   "source": [
    "data_arr"
   ]
  },
  {
   "cell_type": "code",
   "execution_count": 62,
   "metadata": {},
   "outputs": [
    {
     "data": {
      "text/plain": [
       "(9, 21)"
      ]
     },
     "execution_count": 62,
     "metadata": {},
     "output_type": "execute_result"
    }
   ],
   "source": [
    "data_arr.shape"
   ]
  },
  {
   "cell_type": "code",
   "execution_count": 66,
   "metadata": {},
   "outputs": [],
   "source": [
    "# Make multi valued discrete data into binary\n",
    "\n",
    "\n",
    "# converts column j to binary vec\n",
    "def convert_discrete_data(data, j):\n",
    "    # set of values\n",
    "    valset = set(data[:,j])\n",
    "    valdict = {}\n",
    "    count = 0\n",
    "    for i in valset:\n",
    "        valdict[i] = count\n",
    "        count += 1\n",
    "    \n",
    "    m = len(valset)\n",
    "    \n",
    "    # Now remap the data set\n",
    "    \n",
    "    N = data.shape[0]\n",
    "    \n",
    "    ndata = np.zeros((N,m))\n",
    "    \n",
    "    for i in range(N):\n",
    "        pos = valdict[data[i,j]]\n",
    "        ndata[i,pos] = 1 #one hot encoding\n",
    "    \n",
    "    new_arr = np.concatenate((data[:,:j], ndata, data[:,j+1:]), axis=1)\n",
    "    return new_arr\n",
    "                            \n",
    "\n",
    "\n",
    "nd = convert_discrete_data(data_arr,20)\n",
    "\n"
   ]
  },
  {
   "cell_type": "code",
   "execution_count": 71,
   "metadata": {},
   "outputs": [
    {
     "data": {
      "text/plain": [
       "array([[50,  0,  0,  0,  0,  0,  0,  0,  1,  0,  0,  0,  0,  0,  0,  0,\n",
       "         0,  0,  0,  0,  0],\n",
       "       [50,  0,  0,  0,  0,  0,  0,  0,  0,  0,  0,  0,  0,  0,  0,  0,\n",
       "         0,  0,  0,  0,  2],\n",
       "       [50,  0,  0,  0,  0,  0,  0,  0,  0,  0,  0,  0,  0,  0,  0,  0,\n",
       "         0,  0,  0,  0,  3],\n",
       "       [50,  0,  0,  0,  0,  0,  0,  0,  0,  0,  0,  0,  0,  0,  0,  0,\n",
       "         0,  0,  0,  0,  4],\n",
       "       [50,  0,  0,  0,  0,  0,  0,  1,  0,  0,  0,  0,  0,  0,  0,  0,\n",
       "         0,  0,  0,  0,  5]])"
      ]
     },
     "execution_count": 71,
     "metadata": {},
     "output_type": "execute_result"
    }
   ],
   "source": [
    "data_arr[:5]"
   ]
  },
  {
   "cell_type": "code",
   "execution_count": 69,
   "metadata": {},
   "outputs": [
    {
     "data": {
      "text/plain": [
       "array([[50.,  0.,  0.,  0.,  0.,  0.,  0.,  0.,  1.,  0.,  0.,  0.,  0.,\n",
       "         0.,  0.,  0.,  0.,  0.,  0.,  0.,  1.,  0.,  0.,  0.,  0.,  0.,\n",
       "         0.,  0.,  0.],\n",
       "       [50.,  0.,  0.,  0.,  0.,  0.,  0.,  0.,  0.,  0.,  0.,  0.,  0.,\n",
       "         0.,  0.,  0.,  0.,  0.,  0.,  0.,  0.,  1.,  0.,  0.,  0.,  0.,\n",
       "         0.,  0.,  0.],\n",
       "       [50.,  0.,  0.,  0.,  0.,  0.,  0.,  0.,  0.,  0.,  0.,  0.,  0.,\n",
       "         0.,  0.,  0.,  0.,  0.,  0.,  0.,  0.,  0.,  1.,  0.,  0.,  0.,\n",
       "         0.,  0.,  0.],\n",
       "       [50.,  0.,  0.,  0.,  0.,  0.,  0.,  0.,  0.,  0.,  0.,  0.,  0.,\n",
       "         0.,  0.,  0.,  0.,  0.,  0.,  0.,  0.,  0.,  0.,  1.,  0.,  0.,\n",
       "         0.,  0.,  0.],\n",
       "       [50.,  0.,  0.,  0.,  0.,  0.,  0.,  1.,  0.,  0.,  0.,  0.,  0.,\n",
       "         0.,  0.,  0.,  0.,  0.,  0.,  0.,  0.,  0.,  0.,  0.,  1.,  0.,\n",
       "         0.,  0.,  0.]])"
      ]
     },
     "execution_count": 69,
     "metadata": {},
     "output_type": "execute_result"
    }
   ],
   "source": [
    "nd[:5]"
   ]
  },
  {
   "cell_type": "code",
   "execution_count": 1,
   "metadata": {},
   "outputs": [
    {
     "ename": "NameError",
     "evalue": "name 'data_arr' is not defined",
     "output_type": "error",
     "traceback": [
      "\u001b[0;31m---------------------------------------------------------------------------\u001b[0m",
      "\u001b[0;31mNameError\u001b[0m                                 Traceback (most recent call last)",
      "\u001b[0;32m<ipython-input-1-998ddeb3f12e>\u001b[0m in \u001b[0;36m<module>\u001b[0;34m()\u001b[0m\n\u001b[0;32m----> 1\u001b[0;31m \u001b[0mdata_arr\u001b[0m\u001b[0;34m[\u001b[0m\u001b[0;34m:\u001b[0m\u001b[0;36m5\u001b[0m\u001b[0;34m]\u001b[0m\u001b[0;34m\u001b[0m\u001b[0m\n\u001b[0m",
      "\u001b[0;31mNameError\u001b[0m: name 'data_arr' is not defined"
     ]
    }
   ],
   "source": [
    "data_arr[:5]"
   ]
  },
  {
   "cell_type": "code",
   "execution_count": null,
   "metadata": {},
   "outputs": [],
   "source": [
    "\"\"\"\n",
    "These are the diseases under consideration for comparsion of L-measure and MBA for constraints to\n",
    "the maxent problem.\n",
    "\"\"\"\n",
    "\n",
    "\"\"\" CCC codes for diseases enumerated in the MBA anaylis. Taken from Appendix C of Schmitt-thesis\n",
    "12 Cancer of Esophagus\n",
    "30 Cancer of Testis\n",
    "47 Other and Unspecified Benign Neoplasm\n",
    "48 Thyroid Disorders\n",
    "49 Diabetes Mellitus\n",
    "50 Diabetes Mellitus with Complications\n",
    "51 Other Endocrine Disorders\n",
    "52 Nutritional Deficiencies\n",
    "53 Lipid Metabolism Disorder\n",
    "86 Cataract\n",
    "91 Other Eye Disorders\n",
    "95 Other Nervous System Disorders\n",
    "96 Heart Valve Disorders\n",
    "98 Essential Hypertension\n",
    "100 Acute Myocardial Infarction\n",
    "101 Coronary Atherosclerosis and Other Heart Disease\n",
    "103 Pulmonary Heart Disease\n",
    "104 Other and Ill-Defined Heart Disease\n",
    "105 Conduction Disorders\n",
    "106 Cardiac Dysrhythmias\n",
    "110 Occlusion or Stenosis of Prevertebral Arteries\n",
    "111 Other and Ill-Defined Cerebrovascular Disease\n",
    "126 Other Upper Respiratory Infections\n",
    "127 Chronic Obstructive Pulmonary Disease and Bronchiectasis\n",
    "128 Asthma\n",
    "133 Other Lower Respiratory Disease\n",
    "134 Other Upper Respiratory Disease\n",
    "200 Other Skin Disorders\n",
    "202 Rheumatoid Arthritis and Related Disease\n",
    "203 Osteoarthritis\n",
    "204 Non Traumatic Joint Disorders\n",
    "205 Spondylosis; Intervertebral Disc Disorders; Other Back Problems\n",
    "211 Other Connective Tissue Disorders\n",
    "259 Unclassified CCC\n",
    "651 Mood Disorder\n",
    "\"\"\"\n",
    "\n",
    "\"\"\" Extra CCC codes that were missing\n",
    "232 Sprains and strains\n",
    "244 Externally Caused Injuries and Conditions\n",
    "\"\"\""
   ]
  },
  {
   "cell_type": "code",
   "execution_count": null,
   "metadata": {},
   "outputs": [],
   "source": []
  },
  {
   "cell_type": "code",
   "execution_count": null,
   "metadata": {},
   "outputs": [],
   "source": []
  },
  {
   "cell_type": "code",
   "execution_count": null,
   "metadata": {},
   "outputs": [],
   "source": []
  },
  {
   "cell_type": "code",
   "execution_count": null,
   "metadata": {},
   "outputs": [],
   "source": []
  },
  {
   "cell_type": "code",
   "execution_count": null,
   "metadata": {},
   "outputs": [],
   "source": []
  },
  {
   "cell_type": "code",
   "execution_count": null,
   "metadata": {},
   "outputs": [],
   "source": []
  },
  {
   "cell_type": "code",
   "execution_count": null,
   "metadata": {},
   "outputs": [],
   "source": []
  }
 ],
 "metadata": {
  "kernelspec": {
   "display_name": "Python 2",
   "language": "python",
   "name": "python2"
  },
  "language_info": {
   "codemirror_mode": {
    "name": "ipython",
    "version": 2
   },
   "file_extension": ".py",
   "mimetype": "text/x-python",
   "name": "python",
   "nbconvert_exporter": "python",
   "pygments_lexer": "ipython2",
   "version": "2.7.15"
  }
 },
 "nbformat": 4,
 "nbformat_minor": 2
}
