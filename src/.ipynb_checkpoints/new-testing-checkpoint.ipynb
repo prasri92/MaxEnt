{
 "cells": [
  {
   "cell_type": "code",
   "execution_count": 1,
   "metadata": {},
   "outputs": [],
   "source": [
    "from __future__ import division\n",
    "import pickle\n",
    "import numpy as np\n",
    "import itertools\n",
    "\n",
    "import sys\n",
    "path_to_codebase = '/mnt/Study/umass/sem3/maxEnt/src/codebase/'\n",
    "# path_to_codebase = './codebase/'\n",
    "sys.path.insert(0, path_to_codebase)\n",
    "from codebase.utils import load_disease_data\n",
    "from codebase.extract_features import ExtractFeatures\n",
    "from codebase.optimizer import Optimizer\n",
    "\n",
    "\n",
    "filePath = '../data/test1-fy-fillna.csv'\n",
    "outfilename = '../out/pickles/obj_red_mba_fillNA.pk'"
   ]
  },
  {
   "cell_type": "code",
   "execution_count": 2,
   "metadata": {},
   "outputs": [],
   "source": [
    "with open(outfilename, 'rb') as rfile:\n",
    "    opt = pickle.load(rfile)\n",
    "    sol_opt = pickle.load(rfile)"
   ]
  },
  {
   "cell_type": "code",
   "execution_count": 4,
   "metadata": {},
   "outputs": [],
   "source": [
    "def iter_nCk_binvect(n, k):\n",
    "    for bits in itertools.combinations(range(n), k):\n",
    "        tmp = np.zeros(n)\n",
    "#         print bits\n",
    "        tmp[list(bits)] = 1\n",
    "        yield tmp\n"
   ]
  },
  {
   "cell_type": "code",
   "execution_count": 5,
   "metadata": {},
   "outputs": [],
   "source": [
    "def compute_prob_exact(optobj, k):\n",
    "    probsum = 0\n",
    "    maxi, v = 0, None\n",
    "    numfeat = optobj.feats_obj.data_arr.shape[1]\n",
    "    for vec in iter_nCk_binvect(numfeat, k):\n",
    "        tmp = optobj.prob_dist(vec)\n",
    "        probsum += tmp\n",
    "        if tmp >= maxi:\n",
    "            maxi = tmp\n",
    "            v = vec\n",
    "    print(maxi, v)\n",
    "    return probsum"
   ]
  },
  {
   "cell_type": "code",
   "execution_count": 7,
   "metadata": {},
   "outputs": [
    {
     "name": "stdout",
     "output_type": "stream",
     "text": [
      "(0.54346379415157, array([0., 0., 0., 0., 0., 0., 0., 0., 0., 0., 0., 0., 0., 0., 0., 0., 0.,\n",
      "       0., 0., 0., 0., 0., 0., 0., 0., 0., 0., 0., 0., 0., 0., 0., 0., 0.,\n",
      "       0., 0., 0., 0.]))\n"
     ]
    },
    {
     "data": {
      "text/plain": [
       "0.54346379415157"
      ]
     },
     "execution_count": 7,
     "metadata": {},
     "output_type": "execute_result"
    }
   ],
   "source": [
    "compute_prob_exact(opt, 0)"
   ]
  },
  {
   "cell_type": "code",
   "execution_count": 8,
   "metadata": {},
   "outputs": [
    {
     "name": "stdout",
     "output_type": "stream",
     "text": [
      "(0.036691455515193, array([0., 0., 0., 0., 0., 0., 0., 0., 0., 0., 0., 0., 0., 0., 0., 0., 0.,\n",
      "       0., 0., 0., 0., 0., 1., 0., 0., 0., 0., 0., 0., 0., 0., 0., 0., 0.,\n",
      "       0., 0., 0., 0.]))\n"
     ]
    },
    {
     "data": {
      "text/plain": [
       "0.2910919872502148"
      ]
     },
     "execution_count": 8,
     "metadata": {},
     "output_type": "execute_result"
    }
   ],
   "source": [
    "compute_prob_exact(opt, 1)"
   ]
  },
  {
   "cell_type": "code",
   "execution_count": 9,
   "metadata": {},
   "outputs": [
    {
     "name": "stdout",
     "output_type": "stream",
     "text": [
      "(0.005558167865499543, array([0., 0., 0., 0., 0., 0., 0., 0., 1., 0., 0., 0., 0., 1., 0., 0., 0.,\n",
      "       0., 0., 0., 0., 0., 0., 0., 0., 0., 0., 0., 0., 0., 0., 0., 0., 0.,\n",
      "       0., 0., 0., 0.]))\n"
     ]
    },
    {
     "data": {
      "text/plain": [
       "0.10379638938089913"
      ]
     },
     "execution_count": 9,
     "metadata": {},
     "output_type": "execute_result"
    }
   ],
   "source": [
    "compute_prob_exact(opt, 2)"
   ]
  },
  {
   "cell_type": "code",
   "execution_count": 10,
   "metadata": {},
   "outputs": [
    {
     "name": "stdout",
     "output_type": "stream",
     "text": [
      "(0.06392314460000016, array([0., 0., 0., 0., 0., 0., 0., 0., 1., 0., 0., 0., 0., 1., 0., 0., 0.,\n",
      "       0., 0., 0., 0., 0., 0., 0., 0., 0., 0., 0., 0., 0., 0., 1., 0., 0.,\n",
      "       0., 0., 0., 0.]))\n"
     ]
    },
    {
     "data": {
      "text/plain": [
       "0.11303585086623051"
      ]
     },
     "execution_count": 10,
     "metadata": {},
     "output_type": "execute_result"
    }
   ],
   "source": [
    "compute_prob_exact(opt, 3)"
   ]
  },
  {
   "cell_type": "code",
   "execution_count": 11,
   "metadata": {},
   "outputs": [
    {
     "name": "stdout",
     "output_type": "stream",
     "text": [
      "(0.04740374403586298, array([0., 0., 0., 0., 1., 0., 0., 0., 1., 0., 0., 0., 0., 1., 0., 0., 0.,\n",
      "       0., 0., 0., 0., 0., 0., 0., 0., 0., 0., 0., 0., 0., 0., 1., 0., 0.,\n",
      "       0., 0., 0., 0.]))\n"
     ]
    },
    {
     "data": {
      "text/plain": [
       "0.19344445177518962"
      ]
     },
     "execution_count": 11,
     "metadata": {},
     "output_type": "execute_result"
    }
   ],
   "source": [
    "compute_prob_exact(opt, 4)"
   ]
  },
  {
   "cell_type": "code",
   "execution_count": null,
   "metadata": {},
   "outputs": [],
   "source": []
  },
  {
   "cell_type": "code",
   "execution_count": null,
   "metadata": {},
   "outputs": [],
   "source": []
  }
 ],
 "metadata": {
  "kernelspec": {
   "display_name": "Python 2",
   "language": "python",
   "name": "python2"
  },
  "language_info": {
   "codemirror_mode": {
    "name": "ipython",
    "version": 2
   },
   "file_extension": ".py",
   "mimetype": "text/x-python",
   "name": "python",
   "nbconvert_exporter": "python",
   "pygments_lexer": "ipython2",
   "version": "2.7.15"
  }
 },
 "nbformat": 4,
 "nbformat_minor": 2
}
