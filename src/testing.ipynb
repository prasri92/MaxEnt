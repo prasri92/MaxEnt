{
 "cells": [
  {
   "cell_type": "code",
   "execution_count": 1,
   "metadata": {},
   "outputs": [],
   "source": [
    "import pickle\n",
    "import numpy as np\n",
    "import itertools\n",
    "from matplotlib import pyplot as plt\n",
    "\n",
    "import sys\n",
    "#path_to_codebase = '/mnt/Study/umass/sem3/maxEnt/src/codebase/'\n",
    "path_to_codebase = './codebase/'\n",
    "sys.path.insert(0, path_to_codebase)\n",
    "from codebase.utils import load_disease_data\n",
    "from codebase.extract_features import ExtractFeatures\n",
    "# from codebase.optimizer import Optimizer\n",
    "from codebase.optimizer_2 import Optimizer\n"
   ]
  },
  {
   "cell_type": "code",
   "execution_count": 2,
   "metadata": {},
   "outputs": [],
   "source": [
    "obj1f = '../out/pickles/obj_red_mba_fillNA.pk'\n",
    "with open(obj1f, 'rb') as of1:\n",
    "    optobj = pickle.load(of1)\n",
    "    solopt = pickle.load(of1)"
   ]
  },
  {
   "cell_type": "code",
   "execution_count": 3,
   "metadata": {},
   "outputs": [],
   "source": [
    "obj_file = '../out/pickles/obj_red_mba_dropNA.pk'\n",
    "with open(obj_file, 'rb') as ofile:\n",
    "#     featobj1 = pickle.load(ofile)\n",
    "    optobj1 = pickle.load(ofile)\n",
    "    solopt1 = pickle.load(ofile)"
   ]
  },
  {
   "cell_type": "code",
   "execution_count": 4,
   "metadata": {},
   "outputs": [
    {
     "name": "stdout",
     "output_type": "stream",
     "text": [
      "[-10.42951701004439]\n",
      "[-10.02403712815968]\n",
      "[-4.838159841775679]\n",
      "[-4.28632039 -4.11339432 -3.85189198 -4.14320831 -3.77813156 -3.98729276\n",
      " -3.35533614 -5.44299673 -5.02051599 -4.02489451 -4.87484199 -4.58370867\n",
      " -3.54109115 -3.46091771 -4.26320696  1.38387482  2.87056704  1.43063652\n",
      "  2.28622394  3.21592471  0.70077283  1.87592134  0.97607245  0.75884646\n",
      "  2.20057349  1.41841082  2.06676429  1.11542306  1.48287924  1.87653777\n",
      "  1.44163911  0.22760989  0.77794949  1.29423147  0.91760687  1.42371124\n",
      "  2.06360176  2.11373977 -1.41358735 -1.09652642  0.42053986 -0.88452075\n",
      "  4.41921515  0.42596539 -0.69252137 -0.89677848 -0.06096787 -0.7989769\n",
      "  0.07986358  1.54910404  0.14786241 -0.87134138 -0.02724259 -0.94386537\n",
      "  0.31513076  0.0132477  -0.12878802 -0.35385507 -0.10747565 -0.03448031\n",
      " -0.53243978 -1.11404087  0.74668701 -0.03806805 -0.40649841 -2.313966\n",
      "  0.91485409 -0.26291641 -0.18234884]\n",
      "[-7.20993179758437]\n",
      "[-5.816414992558676]\n",
      "[-6.002229747145664]\n",
      "[-4.6870334907829685]\n",
      "[-4.3950475539722165]\n",
      "[-4.2393654832557415]\n",
      "[-5.739585443298822]\n",
      "[-7.384403450946541]\n",
      "[-5.5581636707131]\n",
      "[-6.467180993760405]\n",
      "[-4.834377711196094]\n",
      "[-8.349868615628191]\n",
      "[-8.077861013796495]\n",
      "[-2.6954191800415574]\n",
      "[-3.809111803826478]\n",
      "[-4.1106636697426895]\n",
      "[-3.5962124300031744]\n",
      "[-3.431702185591607]\n",
      "[-3.944220669816402]\n",
      "[-4.048356240111911]\n",
      "\n",
      "\n",
      "[-9.937816512859719]\n",
      "[-9.532327248119953]\n",
      "[-4.341434681048081]\n",
      "[-3.76361519e+00 -3.48709745e+00 -3.26800973e+00 -3.57601998e+00\n",
      " -3.14037695e+00 -3.40397195e+00 -2.65089394e+00 -4.92357366e+00\n",
      " -4.45780097e+00 -3.45644181e+00 -4.35632467e+00 -4.02085246e+00\n",
      " -2.90335659e+00 -2.83257447e+00 -3.74414845e+00  8.16997410e-01\n",
      "  2.28969731e+00  1.04123890e+00  1.68065568e+00  2.69679705e+00\n",
      "  3.08267472e-01  1.41550794e+00  4.01938443e-01  3.49303610e-01\n",
      "  1.58883330e+00  8.74043966e-01  1.50554913e+00  5.47619220e-01\n",
      "  9.79019423e-01  1.31350566e+00  8.34009924e-01 -5.31911751e-02\n",
      "  2.33496542e-01  9.31433777e-01  3.28368982e-01  1.23001555e+00\n",
      "  1.53507598e+00  1.59694321e+00 -9.33566336e-01 -4.47776835e-01\n",
      "  2.82137352e-01 -2.40113401e-01  3.82529535e+00  4.26094008e-01\n",
      " -7.91609857e-02 -7.05425320e-01 -6.28408438e-02 -2.97872995e-01\n",
      "  7.94615529e-02  1.02666959e+00  1.47925104e-01 -4.88941973e-01\n",
      " -2.81780965e-02 -3.74651214e-01  3.15705114e-01 -1.16036300e-01\n",
      " -1.33836112e-01 -3.54090899e-01 -5.71176722e-02 -7.47619414e-02\n",
      " -5.32596757e-01 -6.95008194e-01  7.61086157e-02 -5.09930490e-02\n",
      " -4.06597920e-01 -1.66218014e+00  9.59123794e-01  1.55702278e-03\n",
      " -1.82608798e-01]\n",
      "[-6.717780510934403]\n",
      "[-5.322840082410939]\n",
      "[-5.508976120475391]\n",
      "[-4.1894831081945245]\n",
      "[-3.8954993600265935]\n",
      "[-3.738486035740673]\n",
      "[-5.245859193127632]\n",
      "[-6.8923273544191055]\n",
      "[-5.064030224652436]\n",
      "[-5.974512139787302]\n",
      "[-4.337633390990035]\n",
      "[-7.8580367252235295]\n",
      "[-7.585982179880266]\n",
      "[-2.1599153999933036]\n",
      "[-3.3032520343959115]\n",
      "[-3.6085142738167715]\n",
      "[-3.086959066039493]\n",
      "[-2.919273936229805]\n",
      "[-3.4401638454852104]\n",
      "[-3.54553012005129]\n"
     ]
    }
   ],
   "source": [
    "for i in range(len(solopt[0])):\n",
    "    print solopt[0][i][0]\n",
    "\n",
    "print('\\n')\n",
    "    \n",
    "for i in range(len(solopt1[0])):\n",
    "    print solopt1[0][i][0]\n",
    "    "
   ]
  },
  {
   "cell_type": "code",
   "execution_count": null,
   "metadata": {},
   "outputs": [],
   "source": []
  },
  {
   "cell_type": "code",
   "execution_count": null,
   "metadata": {},
   "outputs": [],
   "source": [
    "print len(solopt[0][3][0]), len(solopt1[0][3][0])"
   ]
  },
  {
   "cell_type": "code",
   "execution_count": null,
   "metadata": {},
   "outputs": [],
   "source": []
  },
  {
   "cell_type": "code",
   "execution_count": null,
   "metadata": {},
   "outputs": [],
   "source": []
  },
  {
   "cell_type": "code",
   "execution_count": null,
   "metadata": {},
   "outputs": [],
   "source": [
    "# normalization constants\n",
    "for i in range(len(solopt[1])):\n",
    "    diff = np.abs(solopt[1][i] - solopt1[1][i]) \n",
    "    print solopt[1][i], solopt1[1][i], diff "
   ]
  },
  {
   "cell_type": "code",
   "execution_count": null,
   "metadata": {},
   "outputs": [],
   "source": []
  },
  {
   "cell_type": "code",
   "execution_count": null,
   "metadata": {},
   "outputs": [],
   "source": [
    "optobj.feats_obj.feat_partitions"
   ]
  },
  {
   "cell_type": "code",
   "execution_count": null,
   "metadata": {
    "scrolled": false
   },
   "outputs": [],
   "source": [
    "optobj1.feats_obj.feat_partitions"
   ]
  },
  {
   "cell_type": "code",
   "execution_count": null,
   "metadata": {},
   "outputs": [],
   "source": [
    "t = solopt[0]\n",
    "print len(t), len(optobj.feats_obj.feat_partitions)"
   ]
  },
  {
   "cell_type": "code",
   "execution_count": null,
   "metadata": {},
   "outputs": [],
   "source": []
  },
  {
   "cell_type": "code",
   "execution_count": null,
   "metadata": {},
   "outputs": [],
   "source": [
    "def prob_dist(optobj, rvec):\n",
    "    \"\"\"\n",
    "    Function to compute the probability for a given input vector\n",
    "    \"\"\"\n",
    "    logp_sum = 0.0\n",
    "    prob_product = 1.0\n",
    "    parts = optobj.feats_obj.feat_partitions\n",
    "    solution = optobj.opt_sol\n",
    "    norm_sol = optobj.norm_z\n",
    "\n",
    "    # `partition` will be a set of indices in the i-th parition        \n",
    "    for i,partition in enumerate(parts):\n",
    "        tmpvec = rvec[partition]\n",
    "        term_exp = optobj.compute_constraint_sum(solution[i][0], tmpvec, partition)\n",
    "        prob_part = (1.0/norm_sol[i]) * np.exp(term_exp)\n",
    "        prob_product *= prob_part\n",
    "        logp_sum += np.log(prob_part)\n",
    "\n",
    "#     return prob_product\n",
    "#     return logp_sum\n",
    "    return np.exp(logp_sum)"
   ]
  },
  {
   "cell_type": "code",
   "execution_count": null,
   "metadata": {},
   "outputs": [],
   "source": [
    "optobj.feats_obj.data_arr.shape[1]"
   ]
  },
  {
   "cell_type": "code",
   "execution_count": null,
   "metadata": {},
   "outputs": [],
   "source": [
    "x1 = np.zeros(38)\n",
    "idx = [4,8,13,31]\n",
    "x1[idx] = 1\n",
    "# print prob_dist(optobj, x1), prob_dist(optobj1, x1)\n",
    "print optobj.prob_dist(x1)"
   ]
  },
  {
   "cell_type": "code",
   "execution_count": null,
   "metadata": {},
   "outputs": [],
   "source": [
    "print optobj1.prob_dist(x1)"
   ]
  },
  {
   "cell_type": "code",
   "execution_count": null,
   "metadata": {},
   "outputs": [],
   "source": [
    "x0 = np.ones(38)\n",
    "optobj.prob_dist(x0)"
   ]
  },
  {
   "cell_type": "code",
   "execution_count": 6,
   "metadata": {},
   "outputs": [],
   "source": [
    "def compute_emp_prob(data, vec):\n",
    "    count = 0.0\n",
    "    for tmp in data:\n",
    "        if sum(tmp == vec) == len(vec):\n",
    "            count += 1\n",
    "    count /= data.shape[0]\n",
    "    return count            "
   ]
  },
  {
   "cell_type": "code",
   "execution_count": null,
   "metadata": {},
   "outputs": [],
   "source": [
    "def constraint_counts(optobj):\n",
    "    for k in optobj.feats_obj.two_way_dict.keys():\n",
    "        "
   ]
  },
  {
   "cell_type": "code",
   "execution_count": 5,
   "metadata": {},
   "outputs": [],
   "source": [
    "def iter_1vec(opt, num):\n",
    "    total_sum = 0.0    \n",
    "    for i in range(num):\n",
    "        tmp = np.zeros(num)\n",
    "        tmp[i] = 1\n",
    "        total_sum += opt.prob_dist(tmp)\n",
    "    return total_sum\n",
    "    "
   ]
  },
  {
   "cell_type": "code",
   "execution_count": null,
   "metadata": {},
   "outputs": [],
   "source": []
  },
  {
   "cell_type": "code",
   "execution_count": null,
   "metadata": {},
   "outputs": [],
   "source": []
  },
  {
   "cell_type": "code",
   "execution_count": 7,
   "metadata": {},
   "outputs": [],
   "source": [
    "def iter_nCk_binvect(n, k):\n",
    "    for bits in itertools.combinations(range(n), k):\n",
    "        tmp = np.zeros(n)\n",
    "#         print bits\n",
    "        tmp[list(bits)] = 1\n",
    "        yield tmp"
   ]
  },
  {
   "cell_type": "code",
   "execution_count": 8,
   "metadata": {},
   "outputs": [],
   "source": [
    "def compute_prob_exact(optobj, k):\n",
    "    probsum = 0\n",
    "    maxi, v = 0, None\n",
    "    numfeat = optobj.feats_obj.data_arr.shape[1]\n",
    "    for vec in iter_nCk_binvect(numfeat, k):\n",
    "        tmp = optobj.prob_dist(vec)\n",
    "        probsum += tmp\n",
    "        if tmp >= maxi:\n",
    "            maxi = tmp\n",
    "            v = vec\n",
    "    print(maxi, v)\n",
    "    return probsum"
   ]
  },
  {
   "cell_type": "code",
   "execution_count": 9,
   "metadata": {},
   "outputs": [
    {
     "data": {
      "text/plain": [
       "0.2909474344320981"
      ]
     },
     "execution_count": 9,
     "metadata": {},
     "output_type": "execute_result"
    }
   ],
   "source": [
    "iter_1vec(optobj, 38)"
   ]
  },
  {
   "cell_type": "code",
   "execution_count": 10,
   "metadata": {},
   "outputs": [
    {
     "name": "stdout",
     "output_type": "stream",
     "text": [
      "(0.03670272392268421, array([0., 0., 0., 0., 0., 0., 0., 0., 0., 0., 0., 0., 0., 0., 0., 0., 0.,\n",
      "       0., 0., 0., 0., 0., 1., 0., 0., 0., 0., 0., 0., 0., 0., 0., 0., 0.,\n",
      "       0., 0., 0., 0.]))\n"
     ]
    },
    {
     "data": {
      "text/plain": [
       "0.2909474344320981"
      ]
     },
     "execution_count": 10,
     "metadata": {},
     "output_type": "execute_result"
    }
   ],
   "source": [
    "compute_prob_exact(optobj, 1)"
   ]
  },
  {
   "cell_type": "code",
   "execution_count": 12,
   "metadata": {},
   "outputs": [
    {
     "name": "stdout",
     "output_type": "stream",
     "text": [
      "(0.06636701156806613, array([0., 0., 0., 0., 0., 0., 0., 0., 1., 0., 0., 0., 0., 1., 0., 0., 0.,\n",
      "       0., 0., 0., 0., 0., 0., 0., 0., 0., 0., 0., 0., 0., 0., 1., 0., 0.,\n",
      "       0., 0., 0., 0.]))\n"
     ]
    },
    {
     "data": {
      "text/plain": [
       "0.11428584439717533"
      ]
     },
     "execution_count": 12,
     "metadata": {},
     "output_type": "execute_result"
    }
   ],
   "source": [
    "compute_prob_exact(optobj, 3)"
   ]
  },
  {
   "cell_type": "code",
   "execution_count": 13,
   "metadata": {},
   "outputs": [
    {
     "name": "stdout",
     "output_type": "stream",
     "text": [
      "(0.16442665426252115, array([0., 0., 0., 0., 1., 0., 0., 0., 1., 0., 0., 0., 0., 1., 0., 0., 0.,\n",
      "       0., 0., 0., 0., 0., 0., 0., 0., 0., 0., 0., 0., 0., 0., 1., 0., 0.,\n",
      "       0., 0., 0., 0.]))\n"
     ]
    },
    {
     "data": {
      "text/plain": [
       "0.39719357705126535"
      ]
     },
     "execution_count": 13,
     "metadata": {},
     "output_type": "execute_result"
    }
   ],
   "source": [
    "compute_prob_exact(optobj, 4)"
   ]
  },
  {
   "cell_type": "code",
   "execution_count": 14,
   "metadata": {},
   "outputs": [
    {
     "name": "stdout",
     "output_type": "stream",
     "text": [
      "(0.11611244497252267, array([0., 0., 0., 0., 0., 0., 0., 0., 1., 0., 0., 0., 0., 1., 0., 0., 0.,\n",
      "       0., 0., 0., 0., 0., 0., 0., 0., 0., 0., 0., 0., 0., 1., 1., 1., 0.,\n",
      "       0., 0., 0., 0.]))\n"
     ]
    },
    {
     "data": {
      "text/plain": [
       "0.6651623184543334"
      ]
     },
     "execution_count": 14,
     "metadata": {},
     "output_type": "execute_result"
    }
   ],
   "source": [
    "compute_prob_exact(optobj, 5)# compute_prob_exact(optobj, 4)"
   ]
  },
  {
   "cell_type": "code",
   "execution_count": 16,
   "metadata": {},
   "outputs": [
    {
     "name": "stdout",
     "output_type": "stream",
     "text": [
      "0.10627610975001979\n",
      "0.0\n"
     ]
    }
   ],
   "source": [
    "v6max = np.array([0., 0., 0., 0., 1., 0., 0., 0., 1., 0., 0., 0., 0., 1., 0., 0., 0.,\n",
    "       0., 0., 0., 0., 0., 0., 0., 0., 0., 0., 0., 0., 0., 1., 1., 1., 0.,\n",
    "       0., 0., 0., 0.])\n",
    "print optobj.prob_dist(v6max)\n",
    "datarr = optobj.feats_obj.data_arr\n",
    "print compute_emp_prob(datarr, v6max)"
   ]
  },
  {
   "cell_type": "code",
   "execution_count": 22,
   "metadata": {},
   "outputs": [
    {
     "data": {
      "text/plain": [
       "-10.42951701004439"
      ]
     },
     "execution_count": 22,
     "metadata": {},
     "output_type": "execute_result"
    }
   ],
   "source": [
    "t = optobj.opt_sol[0][0][0]\n",
    "t"
   ]
  },
  {
   "cell_type": "code",
   "execution_count": 25,
   "metadata": {},
   "outputs": [
    {
     "data": {
      "text/plain": [
       "2.954646181119813e-05"
      ]
     },
     "execution_count": 25,
     "metadata": {},
     "output_type": "execute_result"
    }
   ],
   "source": [
    "mle1 = np.exp(t)/(1 + np.exp(t))\n",
    "mle1"
   ]
  },
  {
   "cell_type": "code",
   "execution_count": 26,
   "metadata": {},
   "outputs": [
    {
     "data": {
      "text/plain": [
       "2.954646181119811e-05"
      ]
     },
     "execution_count": 26,
     "metadata": {},
     "output_type": "execute_result"
    }
   ],
   "source": [
    "count = 0\n",
    "for vec in optobj.feats_obj.data_arr:\n",
    "    if vec[0] == 1:\n",
    "        count += 1\n",
    "mle2 = count * 1.0 / optobj.feats_obj.data_arr.shape[0]\n",
    "mle2"
   ]
  },
  {
   "cell_type": "code",
   "execution_count": null,
   "metadata": {},
   "outputs": [],
   "source": [
    "v0 = np.zeros(38)\n",
    "print prob_dist(optobj, v0)\n",
    "datarr = optobj.feats_obj.data_arr\n",
    "print compute_emp_prob(datarr, v0)"
   ]
  },
  {
   "cell_type": "code",
   "execution_count": null,
   "metadata": {},
   "outputs": [],
   "source": [
    "compute_prob_exact(optobj1, 4)"
   ]
  },
  {
   "cell_type": "code",
   "execution_count": null,
   "metadata": {},
   "outputs": [],
   "source": [
    "low = 1\n",
    "hgh = 5\n",
    "\n",
    "ans = np.zeros(hgh+1)\n",
    "\n",
    "for i in range(low, hgh+1):\n",
    "    ans[i] = compute_prob_exact(optobj, i)"
   ]
  },
  {
   "cell_type": "code",
   "execution_count": null,
   "metadata": {},
   "outputs": [],
   "source": [
    "ans[0] = optobj.prob_dist(np.zeros(38))\n",
    "ans"
   ]
  },
  {
   "cell_type": "code",
   "execution_count": null,
   "metadata": {},
   "outputs": [],
   "source": [
    "low = 1\n",
    "hgh = 5\n",
    "\n",
    "ans2 = np.zeros(hgh+1)\n",
    "\n",
    "for i in range(low, hgh+1):\n",
    "    ans2[i] = compute_prob_exact(optobj, i)\n",
    "\n",
    "ans2[0] = optobj.prob_dist(np.zeros(38))\n",
    "ans2"
   ]
  },
  {
   "cell_type": "code",
   "execution_count": null,
   "metadata": {},
   "outputs": [],
   "source": [
    "optobj.feats_obj.feat_partitions"
   ]
  },
  {
   "cell_type": "code",
   "execution_count": null,
   "metadata": {},
   "outputs": [],
   "source": [
    "data = optobj.feats_obj.data_arr\n",
    "N, _ = data.shape\n",
    "p = np.zeros(5)\n",
    "m = np.zeros(5)\n",
    "\n",
    "for i in range(N):\n",
    "    v = np.sum(data[i], dtype=int)\n",
    "    if v <= 4:\n",
    "        m[v] += 1\n",
    "        p[v] += optobj.prob_dist(data[i])\n",
    "\n",
    "print m\n",
    "print p\n",
    "# m = m/N\n",
    "# np.log(m/(1-m))"
   ]
  },
  {
   "cell_type": "code",
   "execution_count": null,
   "metadata": {},
   "outputs": [],
   "source": [
    "data = optobj.feats_obj.data_arr\n",
    "N, _ = data.shape\n",
    "x = np.zeros(38)\n",
    "idx = [4,8,13,31]\n",
    "x[idx] = 1\n",
    "\n",
    "c = 0\n",
    "for i in range(N):\n",
    "    v = data[i]\n",
    "    if sum(v==x) == 38:\n",
    "        c += 1\n",
    "print c\n",
    "# m = m/N\n",
    "# np.log(m/(1-m))"
   ]
  },
  {
   "cell_type": "code",
   "execution_count": null,
   "metadata": {},
   "outputs": [],
   "source": [
    "np.sum(data, axis=0, dtype=int)"
   ]
  },
  {
   "cell_type": "code",
   "execution_count": null,
   "metadata": {},
   "outputs": [],
   "source": [
    "x = np.zeros(38)\n",
    "p = optobj.prob_dist(x)\n",
    "p\n"
   ]
  }
 ],
 "metadata": {
  "kernelspec": {
   "display_name": "Python 2",
   "language": "python",
   "name": "python2"
  },
  "language_info": {
   "codemirror_mode": {
    "name": "ipython",
    "version": 2
   },
   "file_extension": ".py",
   "mimetype": "text/x-python",
   "name": "python",
   "nbconvert_exporter": "python",
   "pygments_lexer": "ipython2",
   "version": "2.7.15"
  }
 },
 "nbformat": 4,
 "nbformat_minor": 2
}
