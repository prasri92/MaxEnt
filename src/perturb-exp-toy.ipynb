{
 "cells": [
  {
   "cell_type": "code",
   "execution_count": 1,
   "metadata": {},
   "outputs": [],
   "source": [
    "from __future__ import division\n",
    "import pickle\n",
    "import numpy as np\n",
    "import itertools\n",
    "# from matplotlib import pyplot as plt\n",
    "\n",
    "import sys\n",
    "# path_to_codebase = '/mnt/Study/umass/sem3/maxEnt/src/codebase/'\n",
    "path_to_codebase = './codebase/'\n",
    "sys.path.insert(0, path_to_codebase)\n",
    "from codebase.utils import load_disease_data, load_disease_data_perturb\n",
    "from codebase.extract_features import ExtractFeatures\n",
    "from codebase.optimizer import Optimizer\n",
    "from codebase.robust_optimizer import RobustOptimizer\n"
   ]
  },
  {
   "cell_type": "code",
   "execution_count": 19,
   "metadata": {},
   "outputs": [],
   "source": [
    "filePath = '../data/Age50_DataExtract_fy.csv'\n",
    "# filePath = '../data/2010-2014-fy.csv'\n",
    "# filePath = '../data/test1-fy.csv'\n",
    "\n",
    "entropy_estimator = 'JAMES-STEIN'\n",
    "k_val = 4\n",
    "eps_probs = [0.05, 0.1, 0.15, 0.2, 0.25, 0.3, 0.4, 0.5, 0.6, 0.7, 0.8, 0.9]"
   ]
  },
  {
   "cell_type": "code",
   "execution_count": 3,
   "metadata": {},
   "outputs": [],
   "source": [
    "# Creating the 2-way constraint dict from MBA analysis\n",
    "two_wayc = {}\n",
    "keys = [ (0,1), (3,6), (3,4), (1,4)]\n",
    "\n",
    "common_val = (1,1)  # Since MBA only looks for (1,1) pairs\n",
    "for k in keys:\n",
    "    two_wayc[k] = common_val\n",
    "\n",
    "\n",
    "# Creating the 3-way constraint dict from MBA analysis\n",
    "three_wayc = {}\n",
    "keys = [(0,1,4), (3,6,4)]  \n",
    "\n",
    "common_val = (1,1,1)  # Since MBA only looks for (1,1,1) pairs\n",
    "for k in keys:\n",
    "    three_wayc[k] = common_val\n",
    "\n",
    "\n",
    "# Creating the 4-way constraint dict from MBA analysis\n",
    "four_wayc = {}\n",
    "keys = [(0,1,3,4)]\n",
    "\n",
    "common_val = (1,1,1,1)  # Since MBA only looks for (1,1,1,1) pairs \n",
    "for k in keys:\n",
    "    four_wayc[k] = common_val\n",
    "\n",
    "\n"
   ]
  },
  {
   "cell_type": "code",
   "execution_count": 4,
   "metadata": {},
   "outputs": [],
   "source": [
    "data_array = load_disease_data(filePath)\n"
   ]
  },
  {
   "cell_type": "code",
   "execution_count": 5,
   "metadata": {},
   "outputs": [
    {
     "data": {
      "text/plain": [
       "(713, 9)"
      ]
     },
     "execution_count": 5,
     "metadata": {},
     "output_type": "execute_result"
    }
   ],
   "source": [
    "data_array.shape"
   ]
  },
  {
   "cell_type": "code",
   "execution_count": 6,
   "metadata": {},
   "outputs": [
    {
     "name": "stdout",
     "output_type": "stream",
     "text": [
      "Creating the feature graph\n",
      "('Added edge for:', (0, 1))\n",
      "('Added edge for:', (3, 4))\n",
      "('Added edge for:', (1, 4))\n",
      "('Added edge for:', (3, 6))\n",
      "('Added edge for:', (3, 6, 4))\n",
      "('Added edge for:', (0, 1, 4))\n",
      "('Added edge for:', (3, 6, 4))\n",
      "('Added edge for:', (0, 1, 4))\n",
      "Partioning the feature graph\n",
      "Finding the connected components\n"
     ]
    }
   ],
   "source": [
    "feats = ExtractFeatures(data_array, entropy_estimator, k_val)\n",
    "\n",
    "feats.set_two_way_constraints(two_wayc)\n",
    "feats.set_three_way_constraints(three_wayc)\n",
    "feats.set_four_way_constraints(four_wayc)\n",
    "# feats.compute_topK_feats()\n",
    "feats.partition_features()\n",
    "\n"
   ]
  },
  {
   "cell_type": "code",
   "execution_count": 7,
   "metadata": {},
   "outputs": [
    {
     "data": {
      "text/plain": [
       "([(array([-2.43980609e+00, -2.42867115e+00, -4.86012077e+00, -2.30412140e+00,\n",
       "          -5.75680854e+00,  1.50358353e+00,  4.34750116e+00,  2.35774735e+00,\n",
       "           2.30370847e+00,  8.09818411e-04, -1.22649910e+01, -2.69221654e+00]),\n",
       "   776.2383343857186,\n",
       "   {'funcalls': 975,\n",
       "    'grad': array([-0.00245564, -0.00089813, -0.00172804,  0.00104592, -0.00101181,\n",
       "           -0.00159162, -0.00108002, -0.00195541, -0.00051159, -0.00013642,\n",
       "            0.        ,  0.        ]),\n",
       "    'nit': 70,\n",
       "    'task': 'CONVERGENCE: REL_REDUCTION_OF_F_<=_FACTR*EPSMCH',\n",
       "    'warnflag': 0}),\n",
       "  [[-2.405569907551479]],\n",
       "  [[-3.4011973816621555]],\n",
       "  [[-2.5847519847577165]],\n",
       "  [[-3.1606620876360765]]],\n",
       " [1.3632009093955928,\n",
       "  1.0902140672782874,\n",
       "  1.0333333333333334,\n",
       "  1.0754147812971342,\n",
       "  1.0423976608187135])"
      ]
     },
     "execution_count": 7,
     "metadata": {},
     "output_type": "execute_result"
    }
   ],
   "source": [
    "opt_unreg = Optimizer(feats) \n",
    "soln_opt_unreg = opt_unreg.solver_optimize()\n",
    "soln_opt_unreg"
   ]
  },
  {
   "cell_type": "code",
   "execution_count": 8,
   "metadata": {},
   "outputs": [
    {
     "data": {
      "text/plain": [
       "([(array([-2.43547013, -2.41909371, -4.78321724, -2.30009341, -5.51534756,\n",
       "           1.48071796,  3.97391347,  2.25902105,  2.01881528,  0.36272709,\n",
       "          -2.69161499, -0.53605307]),\n",
       "   781.595584914046,\n",
       "   {'funcalls': 1014,\n",
       "    'grad': array([ 4.85442797e-03,  5.65023583e-03,  1.90993887e-03,  3.41060513e-05,\n",
       "            7.95807864e-04,  2.80806489e-03,  3.41060513e-04, -1.61435310e-03,\n",
       "           -1.06865627e-03, -1.54614099e-03,  9.66338121e-04, -7.84439180e-04]),\n",
       "    'nit': 70,\n",
       "    'task': 'CONVERGENCE: REL_REDUCTION_OF_F_<=_FACTR*EPSMCH',\n",
       "    'warnflag': 0}),\n",
       "  [[-2.405569907551479]],\n",
       "  [[-3.4011973816621555]],\n",
       "  [[-2.5847519847577165]],\n",
       "  [[-3.1606620876360765]]],\n",
       " [1.3661097710046246,\n",
       "  1.0902140672782874,\n",
       "  1.0333333333333334,\n",
       "  1.0754147812971342,\n",
       "  1.0423976608187135])"
      ]
     },
     "execution_count": 8,
     "metadata": {},
     "output_type": "execute_result"
    }
   ],
   "source": [
    "opt_reg = RobustOptimizer(feats, 2.0) \n",
    "soln_opt_reg = opt_reg.solver_optimize()\n",
    "soln_opt_reg"
   ]
  },
  {
   "cell_type": "code",
   "execution_count": null,
   "metadata": {},
   "outputs": [],
   "source": []
  },
  {
   "cell_type": "code",
   "execution_count": 9,
   "metadata": {},
   "outputs": [],
   "source": [
    "def kldiv_emp_mxe(optobj, data):\n",
    "#     data = optobj.feats_obj.data_arr\n",
    "    num_feats = data.shape[1]\n",
    "    all_perms = itertools.product([0, 1], repeat=num_feats)\n",
    "    kl_sum = 0.0\n",
    "    for tmp in all_perms:\n",
    "        vec = np.asarray(tmp)        \n",
    "        emp_count = 0\n",
    "        for datavec in data:\n",
    "            if sum(datavec == vec) == num_feats:\n",
    "                emp_count += 1\n",
    "        \n",
    "        if emp_count == 0:\n",
    "            kl_sum += 0\n",
    "        else:\n",
    "            mxe_prob = optobj.prob_dist(vec)\n",
    "            emp_prob = emp_count * 1.0 / data.shape[0]\n",
    "            kl_sum += emp_prob * np.log(emp_prob/mxe_prob)\n",
    "    \n",
    "    return kl_sum\n",
    "            \n",
    "    \n",
    "    "
   ]
  },
  {
   "cell_type": "code",
   "execution_count": 10,
   "metadata": {},
   "outputs": [],
   "source": [
    "from collections import defaultdict\n",
    "\n",
    "def kldiv_2(optobj, data):\n",
    "#     data = optobj.feats_obj.data_arr\n",
    "    num_feats = data.shape[1]\n",
    "    \n",
    "    count_dict = defaultdict(int)\n",
    "    for datavec in data:\n",
    "        tup = tuple(datavec)\n",
    "        count_dict[tup] += 1        \n",
    "    \n",
    "    kl_sum = 0.0\n",
    "    for tup in count_dict.keys():\n",
    "        vec = np.asarray(tup)\n",
    "        count = count_dict[tup]\n",
    "        \n",
    "        if count == 0:\n",
    "            kl_sum += 0\n",
    "        else:\n",
    "            emp_prob = count * 1.0 / data.shape[0]\n",
    "            mxe_prob = optobj.prob_dist(vec)\n",
    "            kl_sum += emp_prob * np.log(emp_prob/mxe_prob)   \n",
    "    \n",
    "    return kl_sum"
   ]
  },
  {
   "cell_type": "code",
   "execution_count": 11,
   "metadata": {},
   "outputs": [],
   "source": [
    "data = opt_reg.feats_obj.data_arr"
   ]
  },
  {
   "cell_type": "code",
   "execution_count": 22,
   "metadata": {},
   "outputs": [],
   "source": [
    "perturb_data = load_disease_data_perturb(filePath, 0.1)"
   ]
  },
  {
   "cell_type": "code",
   "execution_count": null,
   "metadata": {},
   "outputs": [],
   "source": []
  },
  {
   "cell_type": "code",
   "execution_count": 13,
   "metadata": {},
   "outputs": [
    {
     "data": {
      "text/plain": [
       "(713, 9)"
      ]
     },
     "execution_count": 13,
     "metadata": {},
     "output_type": "execute_result"
    }
   ],
   "source": [
    "perturb_data.shape"
   ]
  },
  {
   "cell_type": "code",
   "execution_count": 23,
   "metadata": {},
   "outputs": [
    {
     "data": {
      "text/plain": [
       "0.92420359791924"
      ]
     },
     "execution_count": 23,
     "metadata": {},
     "output_type": "execute_result"
    }
   ],
   "source": [
    "kldiv_2(opt_unreg, perturb_data)"
   ]
  },
  {
   "cell_type": "code",
   "execution_count": null,
   "metadata": {},
   "outputs": [],
   "source": []
  },
  {
   "cell_type": "code",
   "execution_count": 24,
   "metadata": {},
   "outputs": [
    {
     "data": {
      "text/plain": [
       "0.8650163825073218"
      ]
     },
     "execution_count": 24,
     "metadata": {},
     "output_type": "execute_result"
    }
   ],
   "source": [
    "kldiv_2(opt_reg, perturb_data)"
   ]
  },
  {
   "cell_type": "code",
   "execution_count": null,
   "metadata": {},
   "outputs": [],
   "source": []
  },
  {
   "cell_type": "code",
   "execution_count": null,
   "metadata": {},
   "outputs": [],
   "source": []
  },
  {
   "cell_type": "code",
   "execution_count": 25,
   "metadata": {},
   "outputs": [],
   "source": [
    "unreg_kldict = {}\n",
    "reg_kldict = {}\n",
    "for e in eps_probs:\n",
    "    perturb_data = load_disease_data_perturb(filePath, e)\n",
    "    unreg_kldict[e] = kldiv_2(opt_unreg, perturb_data)\n",
    "    reg_kldict[e] = kldiv_2(opt_reg, perturb_data)"
   ]
  },
  {
   "cell_type": "code",
   "execution_count": 28,
   "metadata": {},
   "outputs": [
    {
     "data": {
      "text/plain": [
       "{0.05: 0.40564122582720263,\n",
       " 0.1: 0.9462314308161917,\n",
       " 0.15: 1.6773523876629757,\n",
       " 0.2: 2.57519810559319,\n",
       " 0.25: 3.558478908154694,\n",
       " 0.3: 4.017281782674745,\n",
       " 0.4: 6.690886919488896,\n",
       " 0.5: 9.46288961063854,\n",
       " 0.6: 12.758250916490354,\n",
       " 0.7: 16.586892604394066,\n",
       " 0.8: 21.20588578086693,\n",
       " 0.9: 26.957309582618834}"
      ]
     },
     "execution_count": 28,
     "metadata": {},
     "output_type": "execute_result"
    }
   ],
   "source": [
    "unreg_kldict # un-regularized model"
   ]
  },
  {
   "cell_type": "code",
   "execution_count": 29,
   "metadata": {},
   "outputs": [
    {
     "data": {
      "text/plain": [
       "{0.05: 0.3677458919349196,\n",
       " 0.1: 0.84061220600919,\n",
       " 0.15: 1.5227344243186272,\n",
       " 0.2: 2.35381965081224,\n",
       " 0.25: 3.178909005088776,\n",
       " 0.3: 3.56132318325954,\n",
       " 0.4: 5.741276792274964,\n",
       " 0.5: 7.678114714760526,\n",
       " 0.6: 10.066709820210026,\n",
       " 0.7: 12.328817270950031,\n",
       " 0.8: 15.126934410131774,\n",
       " 0.9: 18.267422853971745}"
      ]
     },
     "execution_count": 29,
     "metadata": {},
     "output_type": "execute_result"
    }
   ],
   "source": [
    "reg_kldict # regularized model"
   ]
  },
  {
   "cell_type": "code",
   "execution_count": null,
   "metadata": {},
   "outputs": [],
   "source": []
  },
  {
   "cell_type": "code",
   "execution_count": null,
   "metadata": {},
   "outputs": [],
   "source": []
  },
  {
   "cell_type": "code",
   "execution_count": 35,
   "metadata": {},
   "outputs": [],
   "source": []
  },
  {
   "cell_type": "code",
   "execution_count": null,
   "metadata": {},
   "outputs": [],
   "source": []
  },
  {
   "cell_type": "code",
   "execution_count": null,
   "metadata": {},
   "outputs": [],
   "source": [
    "\n"
   ]
  },
  {
   "cell_type": "code",
   "execution_count": null,
   "metadata": {},
   "outputs": [],
   "source": []
  },
  {
   "cell_type": "code",
   "execution_count": null,
   "metadata": {},
   "outputs": [],
   "source": []
  },
  {
   "cell_type": "code",
   "execution_count": null,
   "metadata": {},
   "outputs": [],
   "source": []
  },
  {
   "cell_type": "code",
   "execution_count": null,
   "metadata": {},
   "outputs": [],
   "source": []
  },
  {
   "cell_type": "code",
   "execution_count": null,
   "metadata": {},
   "outputs": [],
   "source": []
  },
  {
   "cell_type": "code",
   "execution_count": null,
   "metadata": {},
   "outputs": [],
   "source": []
  },
  {
   "cell_type": "code",
   "execution_count": null,
   "metadata": {},
   "outputs": [],
   "source": []
  },
  {
   "cell_type": "code",
   "execution_count": null,
   "metadata": {},
   "outputs": [],
   "source": []
  },
  {
   "cell_type": "code",
   "execution_count": null,
   "metadata": {},
   "outputs": [],
   "source": []
  },
  {
   "cell_type": "code",
   "execution_count": null,
   "metadata": {},
   "outputs": [],
   "source": [
    "\n",
    "\n",
    "# opt.compare_marginals()\n",
    "\n",
    "# m2, e2 = opt.compare_constraints_2way()\n",
    "# # print m2\n",
    "# # print e2\n",
    "\n",
    "# m3, e3 = opt.compare_constraints_3way()\n",
    "# # print m3\n",
    "# # print e3\n",
    "\n",
    "# m4, e4 = opt.compare_constraints_4way()\n",
    "# # print m4\n",
    "# # print e4\n",
    "\n",
    "# #### PLOTS #### \n",
    "# num_feats = data_array.shape[1]\n",
    "# all_perms = itertools.product([0, 1], repeat=num_feats)\n",
    "\n",
    "# mxt_prob = np.zeros(num_feats + 1)\n",
    "# for tmp in all_perms:\n",
    "#     vec = np.asarray(tmp)\n",
    "#     j = sum(vec)\n",
    "#     mxt_prob[j] += opt.prob_dist(vec)\n",
    "\n",
    "# emp_prob = np.zeros(num_feats + 1)\n",
    "# for vec in data_array:\n",
    "#     j = sum(vec)\n",
    "#     emp_prob[j] += 1\n",
    "# emp_prob /= data_array.shape[0] # N\n",
    "\n",
    "# print mxt_prob, emp_prob\n",
    "\n",
    "# xvec = [i+1 for i in range(num_feats + 1)]\n",
    "# x_ticks = np.arange(0, num_feats+2, 1.0)\n",
    "# plot_lims = [0,  num_feats+2, -0.1, 1.0]\n",
    "# # Both on same plot\n",
    "# plt.figure()\n",
    "# plt.plot(xvec, emp_prob, 'ro', label='empirical')  # empirical\n",
    "# plt.plot(xvec, mxt_prob, 'bo', label='maxent')  # maxent\n",
    "# plt.legend()\n",
    "# plt.xticks(x_ticks)\n",
    "# plt.axis(plot_lims)\n",
    "# fname_plt = '../out/plot_toy_mba_e-' + str('%.3f' %eps_prob) + '.png'\n",
    "# plt.savefig(fname_plt)\n",
    "\n"
   ]
  }
 ],
 "metadata": {
  "kernelspec": {
   "display_name": "Python 3",
   "language": "python",
   "name": "python3"
  },
  "language_info": {
   "codemirror_mode": {
    "name": "ipython",
    "version": 3
   },
   "file_extension": ".py",
   "mimetype": "text/x-python",
   "name": "python",
   "nbconvert_exporter": "python",
   "pygments_lexer": "ipython3",
   "version": "3.7.0"
  }
 },
 "nbformat": 4,
 "nbformat_minor": 2
}
